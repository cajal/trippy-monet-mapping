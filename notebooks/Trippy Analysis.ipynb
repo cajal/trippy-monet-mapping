{
 "cells": [
  {
   "cell_type": "markdown",
   "metadata": {},
   "source": [
    "# Trippy Analysis"
   ]
  },
  {
   "cell_type": "markdown",
   "metadata": {},
   "source": [
    "## Movie parameterization\n",
    "\n",
    "Trippy frame: $$\\cos \\varphi$$\n",
    "\n",
    "Direction of motion image $$\\kappa = \\angle \\left(\\nabla_x \\varphi \\right) \\,\\mathrm{sign}\\, \\left[\\frac{\\partial \\varphi}{\\partial t}\\right]$$\n",
    "\n",
    "Local orientation coherence $$H = \\left|h \\circledast e^{2i\\kappa}\\right|$$"
   ]
  },
  {
   "cell_type": "markdown",
   "metadata": {},
   "source": [
    "## Model"
   ]
  },
  {
   "cell_type": "markdown",
   "metadata": {},
   "source": [
    "Spatial spot image (2D Gaussian): $S = \\mathcal N(\\,C_x, \\mu_x)$"
   ]
  },
  {
   "cell_type": "markdown",
   "metadata": {},
   "source": [
    "Directional response image (2-peak von Mises): $$M(\\kappa) = v_0 + v_1 g(\\kappa) + v_2 g(\\kappa-\\pi)$$\n",
    "\n",
    "$$g(\\kappa) = e^{u\\cdot(\\cos(\\kappa - \\theta) - 1)}$$"
   ]
  },
  {
   "cell_type": "markdown",
   "metadata": {},
   "source": [
    "Predicted response $$R = HM(\\kappa) \\bullet S$$\n",
    "\n",
    "Loss function $$\\mathcal L = \\sum\\limits_t\\| z - R \\|^2$$"
   ]
  },
  {
   "cell_type": "code",
   "execution_count": null,
   "metadata": {},
   "outputs": [],
   "source": []
  }
 ],
 "metadata": {
  "kernelspec": {
   "display_name": "Python 3",
   "language": "python",
   "name": "python3"
  },
  "language_info": {
   "codemirror_mode": {
    "name": "ipython",
    "version": 3
   },
   "file_extension": ".py",
   "mimetype": "text/x-python",
   "name": "python",
   "nbconvert_exporter": "python",
   "pygments_lexer": "ipython3",
   "version": "3.7.3"
  }
 },
 "nbformat": 4,
 "nbformat_minor": 2
}
