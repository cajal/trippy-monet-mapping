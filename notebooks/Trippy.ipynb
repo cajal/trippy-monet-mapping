{
 "cells": [
  {
   "cell_type": "code",
   "execution_count": 1,
   "metadata": {},
   "outputs": [],
   "source": [
    "%matplotlib inline\n",
    "from matplotlib import pyplot as plt"
   ]
  },
  {
   "cell_type": "code",
   "execution_count": 2,
   "metadata": {},
   "outputs": [
    {
     "name": "stdout",
     "output_type": "stream",
     "text": [
      "Connecting dimitri@at-database.ad.bcm.edu:3306\n",
      "Loading local settings from pipeline_config.json\n",
      "Could not find cv2. You won't be able to use the pupil tracker.\n"
     ]
    }
   ],
   "source": [
    "import datajoint as dj\n",
    "import numpy as np\n",
    "import os\n",
    "from stimulus import stimulus\n",
    "from pipeline import fuse"
   ]
  },
  {
   "cell_type": "code",
   "execution_count": 3,
   "metadata": {},
   "outputs": [],
   "source": [
    "import tqdm"
   ]
  },
  {
   "cell_type": "code",
   "execution_count": 4,
   "metadata": {},
   "outputs": [],
   "source": [
    "import monet_trippy as mt"
   ]
  },
  {
   "cell_type": "code",
   "execution_count": 5,
   "metadata": {},
   "outputs": [],
   "source": [
    "# sessions that have both Monet and Trippy from a few recent experiments\n",
    "sessions = (fuse.Activity * stimulus.Sync & 'animal_id in (20505, 20322, 20457, 20210, 20892)'\n",
    "            & (stimulus.Trial * stimulus.Monet2) & (stimulus.Trial * stimulus.Trippy)).fetch('KEY')\n",
    "key = sessions[2]   # pick one"
   ]
  },
  {
   "cell_type": "code",
   "execution_count": 6,
   "metadata": {},
   "outputs": [
    {
     "ename": "FileNotFoundError",
     "evalue": "[Errno 2] No such file or directory: 'cache/eea63986eb3bc179e8619e8f7eab0331-traces.npz'",
     "output_type": "error",
     "traceback": [
      "\u001b[0;31m---------------------------------------------------------------------------\u001b[0m",
      "\u001b[0;31mFileNotFoundError\u001b[0m                         Traceback (most recent call last)",
      "\u001b[0;32m<ipython-input-6-0c287e0510a3>\u001b[0m in \u001b[0;36m<module>\u001b[0;34m\u001b[0m\n\u001b[1;32m     19\u001b[0m     \u001b[0mspikes\u001b[0m \u001b[0;34m=\u001b[0m \u001b[0mpipe\u001b[0m\u001b[0;34m.\u001b[0m\u001b[0mActivity\u001b[0m\u001b[0;34m.\u001b[0m\u001b[0mTrace\u001b[0m \u001b[0;34m*\u001b[0m \u001b[0mpipe\u001b[0m\u001b[0;34m.\u001b[0m\u001b[0mScanSet\u001b[0m\u001b[0;34m.\u001b[0m\u001b[0mUnitInfo\u001b[0m \u001b[0;34m&\u001b[0m \u001b[0munits\u001b[0m \u001b[0;34m&\u001b[0m \u001b[0mkey\u001b[0m\u001b[0;34m\u001b[0m\u001b[0;34m\u001b[0m\u001b[0m\n\u001b[1;32m     20\u001b[0m     \u001b[0mtrace_keys\u001b[0m\u001b[0;34m,\u001b[0m \u001b[0mtraces\u001b[0m\u001b[0;34m,\u001b[0m \u001b[0mms_delay\u001b[0m \u001b[0;34m=\u001b[0m \u001b[0mspikes\u001b[0m\u001b[0;34m.\u001b[0m\u001b[0mfetch\u001b[0m\u001b[0;34m(\u001b[0m\u001b[0;34m'KEY'\u001b[0m\u001b[0;34m,\u001b[0m \u001b[0;34m'trace'\u001b[0m\u001b[0;34m,\u001b[0m \u001b[0;34m'ms_delay'\u001b[0m\u001b[0;34m)\u001b[0m\u001b[0;34m\u001b[0m\u001b[0;34m\u001b[0m\u001b[0m\n\u001b[0;32m---> 21\u001b[0;31m     \u001b[0mnp\u001b[0m\u001b[0;34m.\u001b[0m\u001b[0msavez_compressed\u001b[0m\u001b[0;34m(\u001b[0m\u001b[0marchive\u001b[0m\u001b[0;34m,\u001b[0m \u001b[0mtrace_keys\u001b[0m\u001b[0;34m=\u001b[0m\u001b[0mtrace_keys\u001b[0m\u001b[0;34m,\u001b[0m \u001b[0mtraces\u001b[0m\u001b[0;34m=\u001b[0m\u001b[0mtraces\u001b[0m\u001b[0;34m,\u001b[0m \u001b[0mms_delay\u001b[0m\u001b[0;34m=\u001b[0m\u001b[0mms_delay\u001b[0m\u001b[0;34m)\u001b[0m\u001b[0;34m\u001b[0m\u001b[0;34m\u001b[0m\u001b[0m\n\u001b[0m\u001b[1;32m     22\u001b[0m \u001b[0mframe_times\u001b[0m \u001b[0;34m=\u001b[0m \u001b[0mnp\u001b[0m\u001b[0;34m.\u001b[0m\u001b[0madd\u001b[0m\u001b[0;34m.\u001b[0m\u001b[0mouter\u001b[0m\u001b[0;34m(\u001b[0m\u001b[0mms_delay\u001b[0m \u001b[0;34m/\u001b[0m \u001b[0;36m1000\u001b[0m\u001b[0;34m,\u001b[0m \u001b[0mframe_times\u001b[0m\u001b[0;34m)\u001b[0m  \u001b[0;31m# num_traces x num_frames\u001b[0m\u001b[0;34m\u001b[0m\u001b[0;34m\u001b[0m\u001b[0m\n",
      "\u001b[0;32m<__array_function__ internals>\u001b[0m in \u001b[0;36msavez_compressed\u001b[0;34m(*args, **kwargs)\u001b[0m\n",
      "\u001b[0;32m~/.local/lib/python3.7/site-packages/numpy/lib/npyio.py\u001b[0m in \u001b[0;36msavez_compressed\u001b[0;34m(file, *args, **kwds)\u001b[0m\n\u001b[1;32m    702\u001b[0m \u001b[0;34m\u001b[0m\u001b[0m\n\u001b[1;32m    703\u001b[0m     \"\"\"\n\u001b[0;32m--> 704\u001b[0;31m     \u001b[0m_savez\u001b[0m\u001b[0;34m(\u001b[0m\u001b[0mfile\u001b[0m\u001b[0;34m,\u001b[0m \u001b[0margs\u001b[0m\u001b[0;34m,\u001b[0m \u001b[0mkwds\u001b[0m\u001b[0;34m,\u001b[0m \u001b[0;32mTrue\u001b[0m\u001b[0;34m)\u001b[0m\u001b[0;34m\u001b[0m\u001b[0;34m\u001b[0m\u001b[0m\n\u001b[0m\u001b[1;32m    705\u001b[0m \u001b[0;34m\u001b[0m\u001b[0m\n\u001b[1;32m    706\u001b[0m \u001b[0;34m\u001b[0m\u001b[0m\n",
      "\u001b[0;32m~/.local/lib/python3.7/site-packages/numpy/lib/npyio.py\u001b[0m in \u001b[0;36m_savez\u001b[0;34m(file, args, kwds, compress, allow_pickle, pickle_kwargs)\u001b[0m\n\u001b[1;32m    728\u001b[0m         \u001b[0mcompression\u001b[0m \u001b[0;34m=\u001b[0m \u001b[0mzipfile\u001b[0m\u001b[0;34m.\u001b[0m\u001b[0mZIP_STORED\u001b[0m\u001b[0;34m\u001b[0m\u001b[0;34m\u001b[0m\u001b[0m\n\u001b[1;32m    729\u001b[0m \u001b[0;34m\u001b[0m\u001b[0m\n\u001b[0;32m--> 730\u001b[0;31m     \u001b[0mzipf\u001b[0m \u001b[0;34m=\u001b[0m \u001b[0mzipfile_factory\u001b[0m\u001b[0;34m(\u001b[0m\u001b[0mfile\u001b[0m\u001b[0;34m,\u001b[0m \u001b[0mmode\u001b[0m\u001b[0;34m=\u001b[0m\u001b[0;34m\"w\"\u001b[0m\u001b[0;34m,\u001b[0m \u001b[0mcompression\u001b[0m\u001b[0;34m=\u001b[0m\u001b[0mcompression\u001b[0m\u001b[0;34m)\u001b[0m\u001b[0;34m\u001b[0m\u001b[0;34m\u001b[0m\u001b[0m\n\u001b[0m\u001b[1;32m    731\u001b[0m \u001b[0;34m\u001b[0m\u001b[0m\n\u001b[1;32m    732\u001b[0m     \u001b[0;32mif\u001b[0m \u001b[0msys\u001b[0m\u001b[0;34m.\u001b[0m\u001b[0mversion_info\u001b[0m \u001b[0;34m>=\u001b[0m \u001b[0;34m(\u001b[0m\u001b[0;36m3\u001b[0m\u001b[0;34m,\u001b[0m \u001b[0;36m6\u001b[0m\u001b[0;34m)\u001b[0m\u001b[0;34m:\u001b[0m\u001b[0;34m\u001b[0m\u001b[0;34m\u001b[0m\u001b[0m\n",
      "\u001b[0;32m~/.local/lib/python3.7/site-packages/numpy/lib/npyio.py\u001b[0m in \u001b[0;36mzipfile_factory\u001b[0;34m(file, *args, **kwargs)\u001b[0m\n\u001b[1;32m    117\u001b[0m     \u001b[0;32mimport\u001b[0m \u001b[0mzipfile\u001b[0m\u001b[0;34m\u001b[0m\u001b[0;34m\u001b[0m\u001b[0m\n\u001b[1;32m    118\u001b[0m     \u001b[0mkwargs\u001b[0m\u001b[0;34m[\u001b[0m\u001b[0;34m'allowZip64'\u001b[0m\u001b[0;34m]\u001b[0m \u001b[0;34m=\u001b[0m \u001b[0;32mTrue\u001b[0m\u001b[0;34m\u001b[0m\u001b[0;34m\u001b[0m\u001b[0m\n\u001b[0;32m--> 119\u001b[0;31m     \u001b[0;32mreturn\u001b[0m \u001b[0mzipfile\u001b[0m\u001b[0;34m.\u001b[0m\u001b[0mZipFile\u001b[0m\u001b[0;34m(\u001b[0m\u001b[0mfile\u001b[0m\u001b[0;34m,\u001b[0m \u001b[0;34m*\u001b[0m\u001b[0margs\u001b[0m\u001b[0;34m,\u001b[0m \u001b[0;34m**\u001b[0m\u001b[0mkwargs\u001b[0m\u001b[0;34m)\u001b[0m\u001b[0;34m\u001b[0m\u001b[0;34m\u001b[0m\u001b[0m\n\u001b[0m\u001b[1;32m    120\u001b[0m \u001b[0;34m\u001b[0m\u001b[0m\n\u001b[1;32m    121\u001b[0m \u001b[0;34m\u001b[0m\u001b[0m\n",
      "\u001b[0;32m/usr/lib/python3.7/zipfile.py\u001b[0m in \u001b[0;36m__init__\u001b[0;34m(self, file, mode, compression, allowZip64, compresslevel)\u001b[0m\n\u001b[1;32m   1205\u001b[0m             \u001b[0;32mwhile\u001b[0m \u001b[0;32mTrue\u001b[0m\u001b[0;34m:\u001b[0m\u001b[0;34m\u001b[0m\u001b[0;34m\u001b[0m\u001b[0m\n\u001b[1;32m   1206\u001b[0m                 \u001b[0;32mtry\u001b[0m\u001b[0;34m:\u001b[0m\u001b[0;34m\u001b[0m\u001b[0;34m\u001b[0m\u001b[0m\n\u001b[0;32m-> 1207\u001b[0;31m                     \u001b[0mself\u001b[0m\u001b[0;34m.\u001b[0m\u001b[0mfp\u001b[0m \u001b[0;34m=\u001b[0m \u001b[0mio\u001b[0m\u001b[0;34m.\u001b[0m\u001b[0mopen\u001b[0m\u001b[0;34m(\u001b[0m\u001b[0mfile\u001b[0m\u001b[0;34m,\u001b[0m \u001b[0mfilemode\u001b[0m\u001b[0;34m)\u001b[0m\u001b[0;34m\u001b[0m\u001b[0;34m\u001b[0m\u001b[0m\n\u001b[0m\u001b[1;32m   1208\u001b[0m                 \u001b[0;32mexcept\u001b[0m \u001b[0mOSError\u001b[0m\u001b[0;34m:\u001b[0m\u001b[0;34m\u001b[0m\u001b[0;34m\u001b[0m\u001b[0m\n\u001b[1;32m   1209\u001b[0m                     \u001b[0;32mif\u001b[0m \u001b[0mfilemode\u001b[0m \u001b[0;32min\u001b[0m \u001b[0mmodeDict\u001b[0m\u001b[0;34m:\u001b[0m\u001b[0;34m\u001b[0m\u001b[0;34m\u001b[0m\u001b[0m\n",
      "\u001b[0;31mFileNotFoundError\u001b[0m: [Errno 2] No such file or directory: 'cache/eea63986eb3bc179e8619e8f7eab0331-traces.npz'"
     ]
    }
   ],
   "source": [
    "# load frame_times\n",
    "pipe = (fuse.Activity() & key).module\n",
    "num_frames = (pipe.ScanInfo() & key).fetch1('nframes')\n",
    "num_depths = len(dj.U('z') & (pipe.ScanInfo.Field().proj('z', nomatch='field') & key))\n",
    "frame_times = (stimulus.Sync() & key).fetch1('frame_times', squeeze=True) # one per depth\n",
    "assert num_frames <= frame_times.size / num_depths <= num_frames + 1\n",
    "frame_times = frame_times[:num_depths * num_frames:num_depths]  # one per volume\n",
    "\n",
    "# load and cache soma traces\n",
    "trace_hash = dj.hash.key_hash({k: v for k, v in key.items() if k not in {'stimulus_type'}})\n",
    "archive = os.path.join('cache', trace_hash + '-traces.npz')\n",
    "if os.path.isfile(archive):\n",
    "    data = np.load(archive)\n",
    "    trace_keys = data['trace_keys']\n",
    "    traces = data['traces']\n",
    "    ms_delay = data['ms_delay']\n",
    "else:\n",
    "    units = pipe.ScanSet.Unit * pipe.MaskClassification.Type & {'type': 'soma'}\n",
    "    spikes = pipe.Activity.Trace * pipe.ScanSet.UnitInfo & units & key\n",
    "    trace_keys, traces, ms_delay = spikes.fetch('KEY', 'trace', 'ms_delay')\n",
    "    np.savez_compressed(archive, trace_keys=trace_keys, traces=traces, ms_delay=ms_delay)\n",
    "frame_times = np.add.outer(ms_delay / 1000, frame_times)  # num_traces x num_frames"
   ]
  },
  {
   "cell_type": "code",
   "execution_count": 7,
   "metadata": {},
   "outputs": [
    {
     "ename": "TypeError",
     "evalue": "__init__() missing 1 required positional argument: 'delays'",
     "output_type": "error",
     "traceback": [
      "\u001b[0;31m---------------------------------------------------------------------------\u001b[0m",
      "\u001b[0;31mTypeError\u001b[0m                                 Traceback (most recent call last)",
      "\u001b[0;32m<ipython-input-7-8f7fe1e93b4f>\u001b[0m in \u001b[0;36m<module>\u001b[0;34m\u001b[0m\n\u001b[1;32m      1\u001b[0m \u001b[0;31m# create a trippy session and load trials\u001b[0m\u001b[0;34m\u001b[0m\u001b[0;34m\u001b[0m\u001b[0;34m\u001b[0m\u001b[0m\n\u001b[0;32m----> 2\u001b[0;31m \u001b[0mtrippy_session\u001b[0m \u001b[0;34m=\u001b[0m \u001b[0mmt\u001b[0m\u001b[0;34m.\u001b[0m\u001b[0mVisualSession\u001b[0m\u001b[0;34m(\u001b[0m\u001b[0mnp\u001b[0m\u001b[0;34m.\u001b[0m\u001b[0mstack\u001b[0m\u001b[0;34m(\u001b[0m\u001b[0mtraces\u001b[0m\u001b[0;34m)\u001b[0m\u001b[0;34m,\u001b[0m \u001b[0mframe_times\u001b[0m\u001b[0;34m)\u001b[0m\u001b[0;34m\u001b[0m\u001b[0;34m\u001b[0m\u001b[0m\n\u001b[0m\u001b[1;32m      3\u001b[0m \u001b[0;32mfor\u001b[0m \u001b[0mtrial\u001b[0m \u001b[0;32min\u001b[0m \u001b[0;34m(\u001b[0m\u001b[0mstimulus\u001b[0m\u001b[0;34m.\u001b[0m\u001b[0mTrial\u001b[0m \u001b[0;34m*\u001b[0m \u001b[0mstimulus\u001b[0m\u001b[0;34m.\u001b[0m\u001b[0mCondition\u001b[0m \u001b[0;34m*\u001b[0m \u001b[0mstimulus\u001b[0m\u001b[0;34m.\u001b[0m\u001b[0mTrippy\u001b[0m \u001b[0;34m&\u001b[0m \u001b[0mkey\u001b[0m\u001b[0;34m)\u001b[0m\u001b[0;34m.\u001b[0m\u001b[0mproj\u001b[0m\u001b[0;34m(\u001b[0m\u001b[0;34m...\u001b[0m\u001b[0;34m,\u001b[0m \u001b[0;34m'- movie'\u001b[0m\u001b[0;34m)\u001b[0m\u001b[0;34m:\u001b[0m\u001b[0;34m\u001b[0m\u001b[0;34m\u001b[0m\u001b[0m\n\u001b[1;32m      4\u001b[0m     \u001b[0mtrippy_session\u001b[0m\u001b[0;34m.\u001b[0m\u001b[0madd_trial\u001b[0m\u001b[0;34m(\u001b[0m\u001b[0mmt\u001b[0m\u001b[0;34m.\u001b[0m\u001b[0mTrippy\u001b[0m\u001b[0;34m.\u001b[0m\u001b[0mfrom_condition\u001b[0m\u001b[0;34m(\u001b[0m\u001b[0mtrial\u001b[0m\u001b[0;34m)\u001b[0m\u001b[0;34m,\u001b[0m \u001b[0mtrial\u001b[0m\u001b[0;34m[\u001b[0m\u001b[0;34m'flip_times'\u001b[0m\u001b[0;34m]\u001b[0m\u001b[0;34m.\u001b[0m\u001b[0mflatten\u001b[0m\u001b[0;34m(\u001b[0m\u001b[0;34m)\u001b[0m\u001b[0;34m)\u001b[0m\u001b[0;34m\u001b[0m\u001b[0;34m\u001b[0m\u001b[0m\n",
      "\u001b[0;31mTypeError\u001b[0m: __init__() missing 1 required positional argument: 'delays'"
     ]
    }
   ],
   "source": [
    "# create a trippy session and load trials\n",
    "trippy_session = mt.VisualSession(np.stack(traces), frame_times)\n",
    "for trial in (stimulus.Trial * stimulus.Condition * stimulus.Trippy & key).proj(..., '- movie'):\n",
    "    trippy_session.add_trial(mt.Trippy.from_condition(trial), trial['flip_times'].flatten())"
   ]
  },
  {
   "cell_type": "code",
   "execution_count": 8,
   "metadata": {},
   "outputs": [
    {
     "ename": "NameError",
     "evalue": "name 't' is not defined",
     "output_type": "error",
     "traceback": [
      "\u001b[0;31m---------------------------------------------------------------------------\u001b[0m",
      "\u001b[0;31mNameError\u001b[0m                                 Traceback (most recent call last)",
      "\u001b[0;32m<ipython-input-8-f1ee71651f28>\u001b[0m in \u001b[0;36m<module>\u001b[0;34m\u001b[0m\n\u001b[0;32m----> 1\u001b[0;31m \u001b[0mt\u001b[0m\u001b[0;34m.\u001b[0m\u001b[0mpacked_phase_movie\u001b[0m\u001b[0;34m.\u001b[0m\u001b[0mshape\u001b[0m\u001b[0;34m\u001b[0m\u001b[0;34m\u001b[0m\u001b[0m\n\u001b[0m",
      "\u001b[0;31mNameError\u001b[0m: name 't' is not defined"
     ]
    }
   ],
   "source": [
    "t.packed_phase_movie.shape"
   ]
  },
  {
   "cell_type": "code",
   "execution_count": null,
   "metadata": {},
   "outputs": [],
   "source": [
    "# Smoothe the traces\n",
    "cutoff_freq = 4.0\n",
    "sampling_freq = 1 / np.median(np.diff(frame_times))  # Hz\n",
    "if sampling_freq > cutoff_freq:\n",
    "    h = np.hamming(2 * int(sampling_freq / cutoff_freq) + 1)\n",
    "    traces = [np.convolve(tr, h / sum(h), mode='same') for tr in traces]\n",
    "\n",
    "# Create splines (scipy.interpolate.InterpolatedUnivariateSpline)\n",
    "trace_spline = SplineCurve(frame_times, traces, k=1, ext='zeros')\n",
    "ftmin, ftmax = frame_times.min(), frame_times.max()"
   ]
  },
  {
   "cell_type": "code",
   "execution_count": null,
   "metadata": {},
   "outputs": [],
   "source": [
    "os.mkdir('one')"
   ]
  },
  {
   "cell_type": "code",
   "execution_count": null,
   "metadata": {},
   "outputs": [],
   "source": [
    "num_lags = 5\n",
    "bin_size = 0.1\n",
    "vmax = 0.4\n",
    "\n",
    "# Iterate over every trial\n",
    "total_duration = 0\n",
    "trace_mean = np.zeros(len(trace_keys))\n",
    "trace_meansq = np.zeros(len(trace_keys))\n",
    "maps = 0 # num_traces x height x width x num_lags\n",
    "movie_mean = 0 # 1 x height x width x num_lags\n",
    "movie_meansq = 0 # 1 x height x width x num_lags\n",
    "trial_rel = stimulus.Trial() * stimulus.Condition() & key"
   ]
  },
  {
   "cell_type": "code",
   "execution_count": null,
   "metadata": {},
   "outputs": [],
   "source": [
    "def compute_sta(traces, movie, num_lags):\n",
    "    \"\"\" Spike-triggered average at diff lags.\"\"\"\n",
    "    num_timepoints = movie.shape[-1] - (num_lags - 1) # length of movie minus lag time\n",
    "    weighted_sums = [np.tensordot(traces[..., lag:lag + num_timepoints], movie[..., :num_timepoints],\n",
    "                                  axes=(-1, -1)) for lag in range(num_lags)]\n",
    "    stas = np.stack(weighted_sums, -1) / num_timepoints # num_traces x height x width x num_lags\n",
    "    return stas"
   ]
  },
  {
   "cell_type": "code",
   "execution_count": null,
   "metadata": {},
   "outputs": [],
   "source": [
    "condition_set = {\n",
    "    'stimulus.Monet': stimulus.Monet(),\n",
    "    'stimulus.Monet2': stimulus.Monet2(),\n",
    "    'stimulus.Trippy': stimulus.Trippy().proj('condition_hash', 'fps', 'rng_seed', 'packed_phase_movie', 'tex_ydim',\n",
    " 'tex_xdim', 'duration', 'xnodes', 'ynodes', 'up_factor', 'temp_freq', 'temp_kernel_length', 'spatial_freq'),\n",
    "    'stimulus.Varma': stimulus.Varma()}[key['stimulus_type']]"
   ]
  },
  {
   "cell_type": "code",
   "execution_count": null,
   "metadata": {},
   "outputs": [],
   "source": [
    "# collect conditions\n",
    "for k in tqdm.tqdm((condition_set & (trial_rel & key)).fetch('KEY')):\n",
    "    p = os.path.join('cache', k['condition_hash'].replace('/','_') + '_' + key['stimulus_type'] + '.npz')\n",
    "    if not os.path.isfile(p):\n",
    "        np.savez_compressed(p, (condition_set & k).fetch1())"
   ]
  },
  {
   "cell_type": "code",
   "execution_count": null,
   "metadata": {},
   "outputs": [],
   "source": []
  },
  {
   "cell_type": "code",
   "execution_count": null,
   "metadata": {},
   "outputs": [],
   "source": []
  },
  {
   "cell_type": "code",
   "execution_count": null,
   "metadata": {},
   "outputs": [],
   "source": [
    "for trial_key, flip_times in tqdm.tqdm(zip(*trial_rel.fetch('KEY', 'flip_times', squeeze=True))):\n",
    "    # Get sampling points at bin_size resolution\n",
    "    sample_secs = np.arange(max(flip_times[0], ftmin), min(flip_times[-1], ftmax),\n",
    "                             bin_size)\n",
    "\n",
    "    # If trial is long enough (>= 3.5 secs)\n",
    "    if (len(sample_secs) - 1) * bin_size >= 3.5:\n",
    "        # Compute trial duration (after subtracting the lag)\n",
    "        duration = sample_secs[-1] - sample_secs[0] - (num_lags - 1) * bin_size\n",
    "        total_duration += duration\n",
    "\n",
    "        # Interpolate movie\n",
    "        movie = (condition_set & trial_key).fetch1('movie')\n",
    "        movie = movie.astype('float32') / 127.5 - 1  # -1 to 1\n",
    "        if movie.ndim == 4:  # ignore color in green/blue monet\n",
    "            movie = movie.sum(axis=2) / np.sqrt(2)\n",
    "        movie = interp1d(flip_times, movie)(sample_secs)\n",
    "\n",
    "        # Interpolate traces\n",
    "        snippets = trace_spline(sample_secs)\n",
    "\n",
    "        # Compute trace statistics\n",
    "        trace_mean += snippets.mean(axis=1) * duration\n",
    "        trace_meansq += (snippets ** 2).mean(axis=1) * duration\n",
    "\n",
    "        # Compute STA maps\n",
    "        maps += compute_sta(snippets, movie, num_lags) * duration\n",
    "\n",
    "        # Compute movie statistics\n",
    "        ones = np.ones([1, len(sample_secs)])\n",
    "        movie_mean += compute_sta(ones, movie, num_lags) * duration\n",
    "        movie_meansq += compute_sta(ones, movie ** 2, num_lags) * duration"
   ]
  },
  {
   "cell_type": "code",
   "execution_count": null,
   "metadata": {},
   "outputs": [],
   "source": [
    "fir, ax = plt.subplots(16, 12, figsize=(18, 18))\n",
    "\n",
    "for i, a in enumerate(ax.flatten()):\n",
    "    a.imshow(maps[i,:,:,1]/total_duration, vmin=-.2, vmax=.2, cmap='gray')\n",
    "    a.set_axis_off()\n",
    "    a.set_title(str(i))\n",
    "    \n",
    "    "
   ]
  },
  {
   "cell_type": "code",
   "execution_count": null,
   "metadata": {},
   "outputs": [],
   "source": [
    "key"
   ]
  },
  {
   "cell_type": "code",
   "execution_count": null,
   "metadata": {},
   "outputs": [],
   "source": [
    "k = dict(keys[1])"
   ]
  },
  {
   "cell_type": "code",
   "execution_count": null,
   "metadata": {},
   "outputs": [],
   "source": [
    "k.pop('stimulus_type')"
   ]
  },
  {
   "cell_type": "markdown",
   "metadata": {},
   "source": [
    "# Trippy Tune"
   ]
  },
  {
   "cell_type": "code",
   "execution_count": null,
   "metadata": {},
   "outputs": [],
   "source": [
    "import trippytune"
   ]
  },
  {
   "cell_type": "code",
   "execution_count": null,
   "metadata": {},
   "outputs": [],
   "source": [
    "cond_key = condition_set.head(limit=1, as_dict=True)[0]"
   ]
  },
  {
   "cell_type": "code",
   "execution_count": null,
   "metadata": {},
   "outputs": [],
   "source": [
    "cond_key"
   ]
  },
  {
   "cell_type": "code",
   "execution_count": null,
   "metadata": {},
   "outputs": [],
   "source": [
    "trippy = trippytune.Trippy(\n",
    "    **{k: v for k, v in cond_key.items() if k in {\n",
    "        'fps', 'rng_seed', 'packed_phase_movie', 'up_factor', 'temp_freq', \n",
    "        'temp_kernel_length', 'duration', 'spatial_freq'}},\n",
    "    tex_size=(cond_key['tex_xdim'], cond_key['tex_ydim']),\n",
    "    nodes=(cond_key['xnodes'], cond_key['ynodes']))"
   ]
  },
  {
   "cell_type": "code",
   "execution_count": null,
   "metadata": {},
   "outputs": [],
   "source": [
    "img = trippy.compute_phase_movie()"
   ]
  },
  {
   "cell_type": "code",
   "execution_count": null,
   "metadata": {},
   "outputs": [],
   "source": []
  }
 ],
 "metadata": {
  "kernelspec": {
   "display_name": "Python 3",
   "language": "python",
   "name": "python3"
  },
  "language_info": {
   "codemirror_mode": {
    "name": "ipython",
    "version": 3
   },
   "file_extension": ".py",
   "mimetype": "text/x-python",
   "name": "python",
   "nbconvert_exporter": "python",
   "pygments_lexer": "ipython3",
   "version": "3.7.5"
  }
 },
 "nbformat": 4,
 "nbformat_minor": 2
}
