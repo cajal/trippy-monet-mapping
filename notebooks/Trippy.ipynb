{
 "cells": [
  {
   "cell_type": "code",
   "execution_count": 4,
   "metadata": {},
   "outputs": [],
   "source": [
    "%matplotlib inline\n",
    "from matplotlib import pyplot as plt"
   ]
  },
  {
   "cell_type": "code",
   "execution_count": 5,
   "metadata": {},
   "outputs": [
    {
     "name": "stdout",
     "output_type": "stream",
     "text": [
      "Connecting dimitri@at-database.ad.bcm.edu:3306\n",
      "Loading local settings from pipeline_config.json\n"
     ]
    }
   ],
   "source": [
    "import datajoint as dj\n",
    "import numpy as np\n",
    "import os\n",
    "from stimulus import stimulus\n",
    "from pipeline import fuse"
   ]
  },
  {
   "cell_type": "code",
   "execution_count": 6,
   "metadata": {},
   "outputs": [],
   "source": [
    "import tqdm"
   ]
  },
  {
   "cell_type": "code",
   "execution_count": 7,
   "metadata": {},
   "outputs": [],
   "source": [
    "import monet_trippy as mt"
   ]
  },
  {
   "cell_type": "code",
   "execution_count": 8,
   "metadata": {},
   "outputs": [],
   "source": [
    "# sessions that have both Monet and Trippy from a few recent experiments\n",
    "sessions = (fuse.Activity * stimulus.Sync & 'animal_id in (20505, 20322, 20457, 20210, 20892)'\n",
    "            & (stimulus.Trial * stimulus.Monet2) & (stimulus.Trial * stimulus.Trippy)).fetch('KEY')\n",
    "key = sessions[2]   # pick one"
   ]
  },
  {
   "cell_type": "code",
   "execution_count": 9,
   "metadata": {},
   "outputs": [],
   "source": [
    "# load frame_times\n",
    "pipe = (fuse.Activity() & key).module\n",
    "num_frames = (pipe.ScanInfo() & key).fetch1('nframes')\n",
    "num_depths = len(dj.U('z') & (pipe.ScanInfo.Field().proj('z', nomatch='field') & key))\n",
    "frame_times = (stimulus.Sync() & key).fetch1('frame_times', squeeze=True) # one per depth\n",
    "assert num_frames <= frame_times.size / num_depths <= num_frames + 1\n",
    "frame_times = frame_times[:num_depths * num_frames:num_depths]  # one per volume\n",
    "\n",
    "# load and cache soma traces\n",
    "trace_hash = dj.hash.key_hash({k: v for k, v in key.items() if k not in {'stimulus_type'}})\n",
    "archive = os.path.join('cache', trace_hash + '-traces.npz')\n",
    "if os.path.isfile(archive):\n",
    "    data = np.load(archive)\n",
    "    trace_keys = data['trace_keys']\n",
    "    traces = data['traces']\n",
    "    ms_delay = data['ms_delay']\n",
    "else:\n",
    "    units = pipe.ScanSet.Unit * pipe.MaskClassification.Type & {'type': 'soma'}\n",
    "    spikes = pipe.Activity.Trace * pipe.ScanSet.UnitInfo & units & key\n",
    "    trace_keys, traces, ms_delay = spikes.fetch('KEY', 'trace', 'ms_delay')\n",
    "    np.savez_compressed(archive, trace_keys=trace_keys, traces=traces, ms_delay=ms_delay)\n",
    "frame_times = np.add.outer(ms_delay / 1000, frame_times)  # num_traces x num_frames"
   ]
  },
  {
   "cell_type": "code",
   "execution_count": 13,
   "metadata": {},
   "outputs": [],
   "source": [
    "# create a trippy session and load trials\n",
    "trippy_session = mt.VisualSession(np.stack(traces), frame_times)\n",
    "for trial in (stimulus.Trial * stimulus.Condition * stimulus.Trippy & key).proj(..., '- movie'):\n",
    "    trippy_session.add_trial(mt.Trippy.from_condition(trial), trial['flip_times'].flatten())"
   ]
  },
  {
   "cell_type": "code",
   "execution_count": null,
   "metadata": {},
   "outputs": [],
   "source": [
    "t.packed_phase_movie.shape"
   ]
  },
  {
   "cell_type": "code",
   "execution_count": null,
   "metadata": {},
   "outputs": [],
   "source": [
    "# Smoothe the traces\n",
    "cutoff_freq = 4.0\n",
    "sampling_freq = 1 / np.median(np.diff(frame_times))  # Hz\n",
    "if sampling_freq > cutoff_freq:\n",
    "    h = np.hamming(2 * int(sampling_freq / cutoff_freq) + 1)\n",
    "    traces = [np.convolve(tr, h / sum(h), mode='same') for tr in traces]\n",
    "\n",
    "# Create splines (scipy.interpolate.InterpolatedUnivariateSpline)\n",
    "trace_spline = SplineCurve(frame_times, traces, k=1, ext='zeros')\n",
    "ftmin, ftmax = frame_times.min(), frame_times.max()"
   ]
  },
  {
   "cell_type": "code",
   "execution_count": 21,
   "metadata": {},
   "outputs": [
    {
     "ename": "FileExistsError",
     "evalue": "[Errno 17] File exists: 'one'",
     "output_type": "error",
     "traceback": [
      "\u001b[0;31m---------------------------------------------------------------------------\u001b[0m",
      "\u001b[0;31mFileExistsError\u001b[0m                           Traceback (most recent call last)",
      "\u001b[0;32m<ipython-input-21-65efb681a428>\u001b[0m in \u001b[0;36m<module>\u001b[0;34m\u001b[0m\n\u001b[0;32m----> 1\u001b[0;31m \u001b[0mos\u001b[0m\u001b[0;34m.\u001b[0m\u001b[0mmkdir\u001b[0m\u001b[0;34m(\u001b[0m\u001b[0;34m'one'\u001b[0m\u001b[0;34m)\u001b[0m\u001b[0;34m\u001b[0m\u001b[0;34m\u001b[0m\u001b[0m\n\u001b[0m",
      "\u001b[0;31mFileExistsError\u001b[0m: [Errno 17] File exists: 'one'"
     ]
    }
   ],
   "source": [
    "os.mkdir('one')"
   ]
  },
  {
   "cell_type": "code",
   "execution_count": null,
   "metadata": {},
   "outputs": [],
   "source": [
    "num_lags = 5\n",
    "bin_size = 0.1\n",
    "vmax = 0.4\n",
    "\n",
    "# Iterate over every trial\n",
    "total_duration = 0\n",
    "trace_mean = np.zeros(len(trace_keys))\n",
    "trace_meansq = np.zeros(len(trace_keys))\n",
    "maps = 0 # num_traces x height x width x num_lags\n",
    "movie_mean = 0 # 1 x height x width x num_lags\n",
    "movie_meansq = 0 # 1 x height x width x num_lags\n",
    "trial_rel = stimulus.Trial() * stimulus.Condition() & key"
   ]
  },
  {
   "cell_type": "code",
   "execution_count": null,
   "metadata": {},
   "outputs": [],
   "source": [
    "def compute_sta(traces, movie, num_lags):\n",
    "    \"\"\" Spike-triggered average at diff lags.\"\"\"\n",
    "    num_timepoints = movie.shape[-1] - (num_lags - 1) # length of movie minus lag time\n",
    "    weighted_sums = [np.tensordot(traces[..., lag:lag + num_timepoints], movie[..., :num_timepoints],\n",
    "                                  axes=(-1, -1)) for lag in range(num_lags)]\n",
    "    stas = np.stack(weighted_sums, -1) / num_timepoints # num_traces x height x width x num_lags\n",
    "    return stas"
   ]
  },
  {
   "cell_type": "code",
   "execution_count": null,
   "metadata": {},
   "outputs": [],
   "source": [
    "condition_set = {\n",
    "    'stimulus.Monet': stimulus.Monet(),\n",
    "    'stimulus.Monet2': stimulus.Monet2(),\n",
    "    'stimulus.Trippy': stimulus.Trippy().proj('condition_hash', 'fps', 'rng_seed', 'packed_phase_movie', 'tex_ydim',\n",
    " 'tex_xdim', 'duration', 'xnodes', 'ynodes', 'up_factor', 'temp_freq', 'temp_kernel_length', 'spatial_freq'),\n",
    "    'stimulus.Varma': stimulus.Varma()}[key['stimulus_type']]"
   ]
  },
  {
   "cell_type": "code",
   "execution_count": null,
   "metadata": {},
   "outputs": [],
   "source": [
    "# collect conditions\n",
    "for k in tqdm.tqdm((condition_set & (trial_rel & key)).fetch('KEY')):\n",
    "    p = os.path.join('cache', k['condition_hash'].replace('/','_') + '_' + key['stimulus_type'] + '.npz')\n",
    "    if not os.path.isfile(p):\n",
    "        np.savez_compressed(p, (condition_set & k).fetch1())"
   ]
  },
  {
   "cell_type": "code",
   "execution_count": null,
   "metadata": {},
   "outputs": [],
   "source": []
  },
  {
   "cell_type": "code",
   "execution_count": null,
   "metadata": {},
   "outputs": [],
   "source": []
  },
  {
   "cell_type": "code",
   "execution_count": null,
   "metadata": {},
   "outputs": [],
   "source": [
    "for trial_key, flip_times in tqdm.tqdm(zip(*trial_rel.fetch('KEY', 'flip_times', squeeze=True))):\n",
    "    # Get sampling points at bin_size resolution\n",
    "    sample_secs = np.arange(max(flip_times[0], ftmin), min(flip_times[-1], ftmax),\n",
    "                             bin_size)\n",
    "\n",
    "    # If trial is long enough (>= 3.5 secs)\n",
    "    if (len(sample_secs) - 1) * bin_size >= 3.5:\n",
    "        # Compute trial duration (after subtracting the lag)\n",
    "        duration = sample_secs[-1] - sample_secs[0] - (num_lags - 1) * bin_size\n",
    "        total_duration += duration\n",
    "\n",
    "        # Interpolate movie\n",
    "        movie = (condition_set & trial_key).fetch1('movie')\n",
    "        movie = movie.astype('float32') / 127.5 - 1  # -1 to 1\n",
    "        if movie.ndim == 4:  # ignore color in green/blue monet\n",
    "            movie = movie.sum(axis=2) / np.sqrt(2)\n",
    "        movie = interp1d(flip_times, movie)(sample_secs)\n",
    "\n",
    "        # Interpolate traces\n",
    "        snippets = trace_spline(sample_secs)\n",
    "\n",
    "        # Compute trace statistics\n",
    "        trace_mean += snippets.mean(axis=1) * duration\n",
    "        trace_meansq += (snippets ** 2).mean(axis=1) * duration\n",
    "\n",
    "        # Compute STA maps\n",
    "        maps += compute_sta(snippets, movie, num_lags) * duration\n",
    "\n",
    "        # Compute movie statistics\n",
    "        ones = np.ones([1, len(sample_secs)])\n",
    "        movie_mean += compute_sta(ones, movie, num_lags) * duration\n",
    "        movie_meansq += compute_sta(ones, movie ** 2, num_lags) * duration"
   ]
  },
  {
   "cell_type": "code",
   "execution_count": null,
   "metadata": {},
   "outputs": [],
   "source": [
    "fir, ax = plt.subplots(16, 12, figsize=(18, 18))\n",
    "\n",
    "for i, a in enumerate(ax.flatten()):\n",
    "    a.imshow(maps[i,:,:,1]/total_duration, vmin=-.2, vmax=.2, cmap='gray')\n",
    "    a.set_axis_off()\n",
    "    a.set_title(str(i))\n",
    "    \n",
    "    "
   ]
  },
  {
   "cell_type": "code",
   "execution_count": 2,
   "metadata": {},
   "outputs": [
    {
     "ename": "NameError",
     "evalue": "name 'key' is not defined",
     "output_type": "error",
     "traceback": [
      "\u001b[0;31m---------------------------------------------------------------------------\u001b[0m",
      "\u001b[0;31mNameError\u001b[0m                                 Traceback (most recent call last)",
      "\u001b[0;32m<ipython-input-2-e1efc99729be>\u001b[0m in \u001b[0;36m<module>\u001b[0;34m\u001b[0m\n\u001b[0;32m----> 1\u001b[0;31m \u001b[0mkey\u001b[0m\u001b[0;34m\u001b[0m\u001b[0;34m\u001b[0m\u001b[0m\n\u001b[0m",
      "\u001b[0;31mNameError\u001b[0m: name 'key' is not defined"
     ]
    }
   ],
   "source": [
    "key"
   ]
  },
  {
   "cell_type": "code",
   "execution_count": null,
   "metadata": {},
   "outputs": [],
   "source": [
    "k = dict(keys[1])"
   ]
  },
  {
   "cell_type": "code",
   "execution_count": null,
   "metadata": {},
   "outputs": [],
   "source": [
    "k.pop('stimulus_type')"
   ]
  },
  {
   "cell_type": "markdown",
   "metadata": {},
   "source": [
    "# Trippy Tune"
   ]
  },
  {
   "cell_type": "code",
   "execution_count": null,
   "metadata": {},
   "outputs": [],
   "source": [
    "import trippytune"
   ]
  },
  {
   "cell_type": "code",
   "execution_count": null,
   "metadata": {},
   "outputs": [],
   "source": [
    "cond_key = condition_set.head(limit=1, as_dict=True)[0]"
   ]
  },
  {
   "cell_type": "code",
   "execution_count": null,
   "metadata": {},
   "outputs": [],
   "source": [
    "cond_key"
   ]
  },
  {
   "cell_type": "code",
   "execution_count": null,
   "metadata": {},
   "outputs": [],
   "source": [
    "trippy = trippytune.Trippy(\n",
    "    **{k: v for k, v in cond_key.items() if k in {\n",
    "        'fps', 'rng_seed', 'packed_phase_movie', 'up_factor', 'temp_freq', \n",
    "        'temp_kernel_length', 'duration', 'spatial_freq'}},\n",
    "    tex_size=(cond_key['tex_xdim'], cond_key['tex_ydim']),\n",
    "    nodes=(cond_key['xnodes'], cond_key['ynodes']))"
   ]
  },
  {
   "cell_type": "code",
   "execution_count": null,
   "metadata": {},
   "outputs": [],
   "source": [
    "img = trippy.compute_phase_movie()"
   ]
  },
  {
   "cell_type": "code",
   "execution_count": null,
   "metadata": {},
   "outputs": [],
   "source": []
  }
 ],
 "metadata": {
  "kernelspec": {
   "display_name": "Python 3",
   "language": "python",
   "name": "python3"
  },
  "language_info": {
   "codemirror_mode": {
    "name": "ipython",
    "version": 3
   },
   "file_extension": ".py",
   "mimetype": "text/x-python",
   "name": "python",
   "nbconvert_exporter": "python",
   "pygments_lexer": "ipython3",
   "version": "3.6.7"
  }
 },
 "nbformat": 4,
 "nbformat_minor": 2
}
