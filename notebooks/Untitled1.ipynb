{
 "cells": [
  {
   "cell_type": "code",
   "execution_count": 1,
   "metadata": {},
   "outputs": [
    {
     "name": "stdout",
     "output_type": "stream",
     "text": [
      "Connecting dimitri@at-database.ad.bcm.edu:3306\n",
      "Loading local settings from pipeline_config.json\n"
     ]
    }
   ],
   "source": [
    "import datajoint as dj\n",
    "import numpy as np\n",
    "import os\n",
    "from stimulus import stimulus\n",
    "from pipeline import fuse, experiment\n",
    "\n",
    "import monet_trippy as mt\n",
    "import random"
   ]
  },
  {
   "cell_type": "code",
   "execution_count": 2,
   "metadata": {},
   "outputs": [],
   "source": [
    "k = (stimulus.Trial * stimulus.Monet2 & 'animal_id in (20505, 20322, 20457, 20210, 20892)').fetch('KEY')"
   ]
  },
  {
   "cell_type": "code",
   "execution_count": 3,
   "metadata": {},
   "outputs": [],
   "source": [
    "schema = dj.schema('dimitri_debug')"
   ]
  },
  {
   "cell_type": "code",
   "execution_count": 5,
   "metadata": {},
   "outputs": [],
   "source": [
    "schema.spawn_missing_classes()"
   ]
  },
  {
   "cell_type": "code",
   "execution_count": 8,
   "metadata": {},
   "outputs": [
    {
     "data": {
      "text/html": [
       "\n",
       "        \n",
       "        <style type=\"text/css\">\n",
       "            .Relation{\n",
       "                border-collapse:collapse;\n",
       "            }\n",
       "            .Relation th{\n",
       "                background: #A0A0A0; color: #ffffff; padding:4px; border:#f0e0e0 1px solid;\n",
       "                font-weight: normal; font-family: monospace; font-size: 100%;\n",
       "            }\n",
       "            .Relation td{\n",
       "                padding:4px; border:#f0e0e0 1px solid; font-size:100%;\n",
       "            }\n",
       "            .Relation tr:nth-child(odd){\n",
       "                background: #ffffff;\n",
       "            }\n",
       "            .Relation tr:nth-child(even){\n",
       "                background: #f3f1ff;\n",
       "            }\n",
       "            /* Tooltip container */\n",
       "            .djtooltip {\n",
       "            }\n",
       "            /* Tooltip text */\n",
       "            .djtooltip .djtooltiptext {\n",
       "                visibility: hidden;\n",
       "                width: 120px;\n",
       "                background-color: black;\n",
       "                color: #fff;\n",
       "                text-align: center;\n",
       "                padding: 5px 0;\n",
       "                border-radius: 6px;\n",
       "                /* Position the tooltip text - see examples below! */\n",
       "                position: absolute;\n",
       "                z-index: 1;\n",
       "            }\n",
       "            #primary {\n",
       "                font-weight: bold;\n",
       "                color: black;\n",
       "            }\n",
       "\n",
       "            #nonprimary {\n",
       "                font-weight: normal;\n",
       "                color: white;\n",
       "            }\n",
       "\n",
       "            /* Show the tooltip text when you mouse over the tooltip container */\n",
       "            .djtooltip:hover .djtooltiptext {\n",
       "                visibility: visible;\n",
       "            }\n",
       "        </style>\n",
       "        \n",
       "        <b></b>\n",
       "            <div style=\"max-height:1000px;max-width:1500px;overflow:auto;\">\n",
       "            <table border=\"1\" class=\"Relation\">\n",
       "                <thead> <tr style=\"text-align: right;\"> <th> <div class=\"djtooltip\">\n",
       "                                <p id=\"primary\">animal_id</p>\n",
       "                                <span class=\"djtooltiptext\">id number</span>\n",
       "                            </div></th><th><div class=\"djtooltip\">\n",
       "                                <p id=\"primary\">session</p>\n",
       "                                <span class=\"djtooltiptext\">session index for the mouse</span>\n",
       "                            </div></th><th><div class=\"djtooltip\">\n",
       "                                <p id=\"primary\">scan_idx</p>\n",
       "                                <span class=\"djtooltiptext\">number of TIFF stack file</span>\n",
       "                            </div></th><th><div class=\"djtooltip\">\n",
       "                                <p id=\"primary\">trial_idx</p>\n",
       "                                <span class=\"djtooltiptext\">trial index within sessions</span>\n",
       "                            </div></th><th><div class=\"djtooltip\">\n",
       "                                <p id=\"nonprimary\">discrepancy</p>\n",
       "                                <span class=\"djtooltiptext\">difference between recorded vs displayed frames</span>\n",
       "                            </div> </th> </tr> </thead>\n",
       "                <tbody> <tr> <td>20210</td>\n",
       "<td>2</td>\n",
       "<td>11</td>\n",
       "<td>0</td>\n",
       "<td>0.0</td></tr><tr><td>20210</td>\n",
       "<td>2</td>\n",
       "<td>11</td>\n",
       "<td>1</td>\n",
       "<td>0.0</td></tr><tr><td>20210</td>\n",
       "<td>2</td>\n",
       "<td>11</td>\n",
       "<td>2</td>\n",
       "<td>0.0</td></tr><tr><td>20210</td>\n",
       "<td>2</td>\n",
       "<td>11</td>\n",
       "<td>3</td>\n",
       "<td>0.0</td></tr><tr><td>20210</td>\n",
       "<td>2</td>\n",
       "<td>11</td>\n",
       "<td>4</td>\n",
       "<td>0.0</td></tr><tr><td>20210</td>\n",
       "<td>2</td>\n",
       "<td>11</td>\n",
       "<td>5</td>\n",
       "<td>0.0</td></tr><tr><td>20210</td>\n",
       "<td>2</td>\n",
       "<td>12</td>\n",
       "<td>0</td>\n",
       "<td>-80.0</td></tr><tr><td>20210</td>\n",
       "<td>2</td>\n",
       "<td>12</td>\n",
       "<td>1</td>\n",
       "<td>0.0</td></tr><tr><td>20210</td>\n",
       "<td>2</td>\n",
       "<td>12</td>\n",
       "<td>2</td>\n",
       "<td>0.0</td></tr><tr><td>20210</td>\n",
       "<td>2</td>\n",
       "<td>12</td>\n",
       "<td>3</td>\n",
       "<td>0.0</td></tr><tr><td>20210</td>\n",
       "<td>2</td>\n",
       "<td>12</td>\n",
       "<td>4</td>\n",
       "<td>0.0</td></tr><tr><td>20210</td>\n",
       "<td>2</td>\n",
       "<td>12</td>\n",
       "<td>5</td>\n",
       "<td>0.0</td> </tr> </tbody>\n",
       "            </table>\n",
       "            <p>...</p>\n",
       "            <p>Total: 247</p></div>\n",
       "            "
      ],
      "text/plain": [
       "*animal_id    *session    *scan_idx    *trial_idx    discrepancy   \n",
       "+-----------+ +---------+ +----------+ +-----------+ +------------+\n",
       "20210         2           11           0             0.0           \n",
       "20210         2           11           1             0.0           \n",
       "20210         2           11           2             0.0           \n",
       "20210         2           11           3             0.0           \n",
       "20210         2           11           4             0.0           \n",
       "20210         2           11           5             0.0           \n",
       "20210         2           12           0             -80.0         \n",
       "20210         2           12           1             0.0           \n",
       "20210         2           12           2             0.0           \n",
       "20210         2           12           3             0.0           \n",
       "20210         2           12           4             0.0           \n",
       "20210         2           12           5             0.0           \n",
       "   ...\n",
       " (Total: 247)"
      ]
     },
     "execution_count": 8,
     "metadata": {},
     "output_type": "execute_result"
    }
   ],
   "source": []
  },
  {
   "cell_type": "code",
   "execution_count": null,
   "metadata": {},
   "outputs": [],
   "source": [
    "while True:\n",
    "    key = random.choice(k)\n",
    "    print(key)\n",
    "    t, f, d = ((stimulus.Trial * stimulus.Monet2) & key).fetch1('flip_times', 'fps', 'duration')\n",
    "    if int(round(f * d)) != t.size:\n",
    "        break"
   ]
  },
  {
   "cell_type": "code",
   "execution_count": null,
   "metadata": {},
   "outputs": [],
   "source": [
    "t.size"
   ]
  },
  {
   "cell_type": "code",
   "execution_count": null,
   "metadata": {},
   "outputs": [],
   "source": [
    "t.shape"
   ]
  },
  {
   "cell_type": "code",
   "execution_count": null,
   "metadata": {},
   "outputs": [],
   "source": []
  }
 ],
 "metadata": {
  "kernelspec": {
   "display_name": "Python 3",
   "language": "python",
   "name": "python3"
  },
  "language_info": {
   "codemirror_mode": {
    "name": "ipython",
    "version": 3
   },
   "file_extension": ".py",
   "mimetype": "text/x-python",
   "name": "python",
   "nbconvert_exporter": "python",
   "pygments_lexer": "ipython3",
   "version": "3.6.7"
  }
 },
 "nbformat": 4,
 "nbformat_minor": 2
}
