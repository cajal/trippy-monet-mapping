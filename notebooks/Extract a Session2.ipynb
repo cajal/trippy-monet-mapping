{
 "cells": [
  {
   "cell_type": "code",
   "execution_count": 1,
   "metadata": {},
   "outputs": [],
   "source": [
    "%matplotlib inline\n",
    "from matplotlib import pyplot as plt"
   ]
  },
  {
   "cell_type": "code",
   "execution_count": 2,
   "metadata": {},
   "outputs": [
    {
     "name": "stdout",
     "output_type": "stream",
     "text": [
      "Connecting dimitri@at-database.ad.bcm.edu:3306\n",
      "Loading local settings from pipeline_config.json\n"
     ]
    }
   ],
   "source": [
    "import datajoint as dj\n",
    "import numpy as np\n",
    "import os\n",
    "from stimulus import stimulus\n",
    "from pipeline import fuse, experiment\n",
    "\n",
    "import monet_trippy as mt\n",
    "import random"
   ]
  },
  {
   "cell_type": "code",
   "execution_count": 3,
   "metadata": {},
   "outputs": [],
   "source": [
    "schema = dj.schema('dimitri_debug')"
   ]
  },
  {
   "cell_type": "code",
   "execution_count": 5,
   "metadata": {},
   "outputs": [],
   "source": [
    "@schema \n",
    "class Discrepancy(dj.Computed):\n",
    "    definition = \"\"\"\n",
    "    -> stimulus.Trial\n",
    "    ---\n",
    "    discrepancy : float   # difference between recorded vs displayed frames\n",
    "    \"\"\"\n",
    "    \n",
    "    key_source = experiment.Scan & (stimulus.Trial * stimulus.Trippy)\n",
    "    \n",
    "    def make(self, key):\n",
    "        keys, duration, fps, times = (stimulus.Trippy * stimulus.Trial & key).fetch('KEY', 'duration', 'fps', 'flip_times', squeeze=True)\n",
    "        self.insert((dict(k, discrepancy=float(d)*float(f) - t.size)\n",
    "                    for k, d, f, t in zip(keys, duration, fps, times)), ignore_extra_fields=True)"
   ]
  },
  {
   "cell_type": "code",
   "execution_count": 6,
   "metadata": {},
   "outputs": [
    {
     "name": "stderr",
     "output_type": "stream",
     "text": [
      "100%|██████████| 63/63 [00:44<00:00,  1.11s/it]\n"
     ]
    }
   ],
   "source": [
    "Discrepancy.populate(display_progress=True)"
   ]
  },
  {
   "cell_type": "code",
   "execution_count": 15,
   "metadata": {},
   "outputs": [
    {
     "name": "stdout",
     "output_type": "stream",
     "text": [
      "About to delete:\n",
      "`dimitri_debug`.`__discrepancy`: 2404 items\n",
      "Proceed? [yes, No]: yes\n",
      "Committed.\n"
     ]
    }
   ],
   "source": [
    "(Discrepancy() & 'animal_id = 0').delete()"
   ]
  },
  {
   "cell_type": "code",
   "execution_count": 21,
   "metadata": {},
   "outputs": [],
   "source": [
    "k = np.random.choice(((Discrepancy & 'discrepancy') & (stimulus.Trial*stimulus.Trippy)).fetch('KEY'))"
   ]
  },
  {
   "cell_type": "code",
   "execution_count": 8,
   "metadata": {},
   "outputs": [],
   "source": [
    "%matplotlib inline\n",
    "from matplotlib import pyplot as plt"
   ]
  },
  {
   "cell_type": "code",
   "execution_count": 22,
   "metadata": {},
   "outputs": [
    {
     "data": {
      "text/plain": [
       "[<matplotlib.lines.Line2D at 0x7f35d17ab7f0>]"
      ]
     },
     "execution_count": 22,
     "metadata": {},
     "output_type": "execute_result"
    },
    {
     "data": {
      "image/png": "[encoded data removed]",
      "text/plain": [
       "<Figure size 432x288 with 1 Axes>"
      ]
     },
     "metadata": {
      "needs_background": "light"
     },
     "output_type": "display_data"
    }
   ],
   "source": [
    "plt.plot(((stimulus.Trial & k).fetch1('flip_times').flatten()), '.')For "
   ]
  },
  {
   "cell_type": "code",
   "execution_count": null,
   "metadata": {},
   "outputs": [],
   "source": [
    "# sessions that have both Monet and Trippy from a few recent experiments\n",
    "sessions = (fuse.Activity * stimulus.Sync & 'animal_id in (20505, 20322, 20457, 20210, 20892)'\n",
    "            & (stimulus.Trial * stimulus.Monet2) & (stimulus.Trial * stimulus.Trippy)).fetch('KEY')\n",
    "key = sessions[2]   # pick one\n",
    "session_name = dj.hash.key_hash(key)[:6]"
   ]
  },
  {
   "cell_type": "code",
   "execution_count": null,
   "metadata": {},
   "outputs": [],
   "source": [
    "keys = (stimulus.Monet2 * stimulus.Trial & 'animal_id between 17000 and 18000').fetch('KEY')"
   ]
  },
  {
   "cell_type": "code",
   "execution_count": null,
   "metadata": {},
   "outputs": [],
   "source": [
    "key = random.choice(keys)\n",
    "g = (stimulus.Monet2 * stimulus.Trial & key).fetch1('flip_times', 'duration', 'fps', 'movie')"
   ]
  },
  {
   "cell_type": "code",
   "execution_count": null,
   "metadata": {},
   "outputs": [],
   "source": [
    "d, t, n = (experiment.Session * stimulus.Monet2 * stimulus.Trial & 'animal_id > 18000').proj(\n",
    "     'session_date', 'flip_times', nframes='duration*fps').fetch('session_date', 'flip_times', 'nframes')"
   ]
  },
  {
   "cell_type": "code",
   "execution_count": null,
   "metadata": {},
   "outputs": [],
   "source": []
  },
  {
   "cell_type": "code",
   "execution_count": null,
   "metadata": {},
   "outputs": [],
   "source": [
    "q = np.array(list((d_, t_.size, n_) for d_, t_, n_ in zip(d, t, n)))"
   ]
  },
  {
   "cell_type": "code",
   "execution_count": null,
   "metadata": {},
   "outputs": [],
   "source": [
    "fig, ax = plt.subplots(1, 1, figsize=(16, 3))\n",
    "ax.plot(q[:,0], q[:,1]- q[:,2], '.')\n",
    "ax.set_ylabel('Monet2 frame discrepancy')"
   ]
  },
  {
   "cell_type": "code",
   "execution_count": null,
   "metadata": {},
   "outputs": [],
   "source": [
    "help(plt.subplots)"
   ]
  },
  {
   "cell_type": "code",
   "execution_count": null,
   "metadata": {},
   "outputs": [],
   "source": [
    "experiment.Session()"
   ]
  },
  {
   "cell_type": "code",
   "execution_count": null,
   "metadata": {},
   "outputs": [],
   "source": []
  },
  {
   "cell_type": "code",
   "execution_count": null,
   "metadata": {},
   "outputs": [],
   "source": [
    "# Load frame times\n",
    "pipe = (fuse.Activity() & key).module\n",
    "num_frames = (pipe.ScanInfo() & key).fetch1('nframes')\n",
    "num_depths = len(dj.U('z') & (pipe.ScanInfo.Field().proj('z', nomatch='field') & key))\n",
    "frame_times = (stimulus.Sync() & key).fetch1('frame_times', squeeze=True) # one per depth\n",
    "assert num_frames <= frame_times.size / num_depths <= num_frames + 1\n",
    "frame_times = frame_times[:num_depths * num_frames:num_depths]  # one per volume"
   ]
  },
  {
   "cell_type": "code",
   "execution_count": null,
   "metadata": {},
   "outputs": [],
   "source": [
    "# Load and cache soma traces\n",
    "trace_hash = dj.hash.key_hash({k: v for k, v in key.items() if k not in {'stimulus_type'}})\n",
    "archive = os.path.join('cache', trace_hash + '-traces.npz')\n",
    "if os.path.isfile(archive):\n",
    "    data = np.load(archive)\n",
    "    trace_keys = data['trace_keys']\n",
    "    traces = data['traces']\n",
    "    ms_delay = data['ms_delay']\n",
    "else:\n",
    "    units = pipe.ScanSet.Unit * pipe.MaskClassification.Type & {'type': 'soma'}\n",
    "    spikes = pipe.Activity.Trace * pipe.ScanSet.UnitInfo & units & key\n",
    "    trace_keys, traces, ms_delay = spikes.fetch('KEY', 'trace', 'ms_delay')\n",
    "    np.savez_compressed(archive, trace_keys=trace_keys, traces=traces, ms_delay=ms_delay)\n",
    "frame_times = np.add.outer(ms_delay / 1000, frame_times)  # num_traces x num_frames"
   ]
  },
  {
   "cell_type": "code",
   "execution_count": null,
   "metadata": {},
   "outputs": [],
   "source": [
    "trippy_session = mt.VisualSession(np.stack(traces), frame_times)\n",
    "for trial in (stimulus.Trial * stimulus.Condition * stimulus.Trippy & key).proj(..., '- movie'):\n",
    "    trippy_session.add_trial(mt.Trippy.from_condition(trial), trial['flip_times'].flatten())"
   ]
  },
  {
   "cell_type": "code",
   "execution_count": null,
   "metadata": {},
   "outputs": [],
   "source": [
    "trippy_session.save(session_name)"
   ]
  },
  {
   "cell_type": "code",
   "execution_count": null,
   "metadata": {},
   "outputs": [],
   "source": [
    "'%08.3f' % (trippy_session.trials[0]['times'][0] - trippy_session.times.flatten()[0])"
   ]
  },
  {
   "cell_type": "code",
   "execution_count": null,
   "metadata": {},
   "outputs": [],
   "source": [
    "session_name"
   ]
  },
  {
   "cell_type": "code",
   "execution_count": null,
   "metadata": {},
   "outputs": [],
   "source": [
    "help(os.makedirs)"
   ]
  },
  {
   "cell_type": "code",
   "execution_count": null,
   "metadata": {},
   "outputs": [],
   "source": [
    "json.dumps(()"
   ]
  },
  {
   "cell_type": "code",
   "execution_count": null,
   "metadata": {},
   "outputs": [],
   "source": [
    "trippy_session.trials[0]['times'][0]"
   ]
  },
  {
   "cell_type": "code",
   "execution_count": null,
   "metadata": {},
   "outputs": [],
   "source": [
    "import os\n",
    "import hashlib"
   ]
  },
  {
   "cell_type": "code",
   "execution_count": null,
   "metadata": {},
   "outputs": [],
   "source": [
    "help(hashlib.blake2b)"
   ]
  },
  {
   "cell_type": "code",
   "execution_count": null,
   "metadata": {},
   "outputs": [],
   "source": [
    "os.path.abspath('../data')"
   ]
  },
  {
   "cell_type": "code",
   "execution_count": null,
   "metadata": {},
   "outputs": [],
   "source": [
    "help(os.makedirs)"
   ]
  },
  {
   "cell_type": "code",
   "execution_count": null,
   "metadata": {
    "scrolled": false
   },
   "outputs": [],
   "source": [
    "help(np.savez)"
   ]
  },
  {
   "cell_type": "code",
   "execution_count": null,
   "metadata": {},
   "outputs": [],
   "source": []
  }
 ],
 "metadata": {
  "kernelspec": {
   "display_name": "Python 3",
   "language": "python",
   "name": "python3"
  },
  "language_info": {
   "codemirror_mode": {
    "name": "ipython",
    "version": 3
   },
   "file_extension": ".py",
   "mimetype": "text/x-python",
   "name": "python",
   "nbconvert_exporter": "python",
   "pygments_lexer": "ipython3",
   "version": "3.6.7"
  }
 },
 "nbformat": 4,
 "nbformat_minor": 2
}
