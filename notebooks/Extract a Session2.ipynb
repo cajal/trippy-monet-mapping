{
 "cells": [
  {
   "cell_type": "code",
   "execution_count": 1,
   "metadata": {},
   "outputs": [],
   "source": [
    "%matplotlib inline\n",
    "from matplotlib import pyplot as plt"
   ]
  },
  {
   "cell_type": "code",
   "execution_count": 2,
   "metadata": {},
   "outputs": [
    {
     "name": "stdout",
     "output_type": "stream",
     "text": [
      "Connecting dimitri@at-database:3306\n",
      "Loading local settings from pipeline_config.json\n",
      "Could not find cv2. You won't be able to use the pupil tracker.\n"
     ]
    }
   ],
   "source": [
    "import datajoint as dj\n",
    "import numpy as np\n",
    "import os\n",
    "from stimulus import stimulus\n",
    "from pipeline import fuse, experiment\n",
    "\n",
    "import monet_trippy as mt\n",
    "import random"
   ]
  },
  {
   "cell_type": "code",
   "execution_count": 3,
   "metadata": {},
   "outputs": [],
   "source": [
    "schema = dj.schema('dimitri_debug')"
   ]
  },
  {
   "cell_type": "code",
   "execution_count": 4,
   "metadata": {},
   "outputs": [],
   "source": [
    "@schema \n",
    "class Discrepancy(dj.Computed):\n",
    "    \"\"\"\n",
    "    hey\n",
    "    \"\"\"\n",
    "        \n",
    "    definition = \"\"\"\n",
    "    -> stimulus.Trial\n",
    "    ---\n",
    "    discrepancy : float   # difference between recorded vs displayed frames\n",
    "    \"\"\"\n",
    "    \n",
    "    key_source = experiment.Scan & (stimulus.Trial * stimulus.Trippy)\n",
    "    \n",
    "    def make(self, key):\n",
    "        keys, duration, fps, times = (stimulus.Trippy * stimulus.Trial & key).fetch('KEY', 'duration', 'fps', 'flip_times', squeeze=True)\n",
    "        self.insert((dict(k, discrepancy=float(d)*float(f) - t.size)\n",
    "                    for k, d, f, t in zip(keys, duration, fps, times)), ignore_extra_fields=True)"
   ]
  },
  {
   "cell_type": "code",
   "execution_count": 5,
   "metadata": {
    "scrolled": true
   },
   "outputs": [
    {
     "name": "stdout",
     "output_type": "stream",
     "text": [
      "Help on class Discrepancy in module __main__:\n",
      "\n",
      "class Discrepancy(datajoint.user_tables.Computed)\n",
      " |      hey\n",
      " |      \n",
      " |  \n",
      " |  Table definition:\n",
      " |  -> stimulus.Trial\n",
      " |  ---\n",
      " |  discrepancy          : float                        # difference between recorded vs displayed frames\n",
      " |  \n",
      " |  Method resolution order:\n",
      " |      Discrepancy\n",
      " |      datajoint.user_tables.Computed\n",
      " |      datajoint.user_tables.UserTable\n",
      " |      datajoint.table.Table\n",
      " |      datajoint.expression.QueryExpression\n",
      " |      datajoint.autopopulate.AutoPopulate\n",
      " |      builtins.object\n",
      " |  \n",
      " |  Methods defined here:\n",
      " |  \n",
      " |  make(self, key)\n",
      " |      Derived classes must implement method `make` that fetches data from tables that are\n",
      " |      above them in the dependency hierarchy, restricting by the given key, computes dependent\n",
      " |      attributes, and inserts the new tuples into self.\n",
      " |  \n",
      " |  ----------------------------------------------------------------------\n",
      " |  Data and other attributes defined here:\n",
      " |  \n",
      " |  database = 'dimitri_debug'\n",
      " |  \n",
      " |  declaration_context = {'Discrepancy': <class '__main__.Discrepancy'>, ...\n",
      " |  \n",
      " |  definition = '\\n    -> stimulus.Trial\\n    ---\\n    discrepancy :...fe...\n",
      " |  \n",
      " |  key_source = *animal_id    *session    *scan_idx    lens     ... 2016b...\n",
      " |  \n",
      " |  ----------------------------------------------------------------------\n",
      " |  Data and other attributes inherited from datajoint.user_tables.Computed:\n",
      " |  \n",
      " |  tier_regexp = '(?P<computed>__[a-z][a-z0-9]*(_[a-z][a-z0-9]*)*)'\n",
      " |  \n",
      " |  ----------------------------------------------------------------------\n",
      " |  Data and other attributes inherited from datajoint.user_tables.UserTable:\n",
      " |  \n",
      " |  connection = DataJoint connection (connected) dimitri@at-database:3306\n",
      " |  \n",
      " |  full_table_name = '`dimitri_debug`.`__discrepancy`'\n",
      " |  \n",
      " |  table_name = '__discrepancy'\n",
      " |  \n",
      " |  ----------------------------------------------------------------------\n",
      " |  Methods inherited from datajoint.table.Table:\n",
      " |  \n",
      " |  alter(prompt=True, context=None)\n",
      " |      Alter the table definition from self.definition\n",
      " |  \n",
      " |  ancestors(self)\n",
      " |  \n",
      " |  children(self, primary=None)\n",
      " |      :param primary: if None, then all parents are returned. If True, then only foreign keys composed of\n",
      " |          primary key attributes are considered.  If False, the only foreign keys including at least one non-primary\n",
      " |          attribute are considered.\n",
      " |      :return: dict of tables with foreign keys referencing self\n",
      " |  \n",
      " |  declare(self, context=None)\n",
      " |      Declare the table in the schema based on self.definition.\n",
      " |      :param context: the context for foreign key resolution. If None, foreign keys are not allowed.\n",
      " |  \n",
      " |  delete(verbose=True)\n",
      " |      Deletes the contents of the table and its dependent tables, recursively.\n",
      " |      User is prompted for confirmation if config['safemode'] is set to True.\n",
      " |  \n",
      " |  delete_quick(get_count=False)\n",
      " |      Deletes the table without cascading and without user prompt.\n",
      " |      If this table has populated dependent tables, this will fail.\n",
      " |  \n",
      " |  descendants(self)\n",
      " |  \n",
      " |  describe(context=None, printout=True)\n",
      " |      :return:  the definition string for the relation using DataJoint DDL.\n",
      " |  \n",
      " |  drop()\n",
      " |      Drop the table and all tables that reference it, recursively.\n",
      " |      User is prompted for confirmation if config['safemode'] is set to True.\n",
      " |  \n",
      " |  drop_quick()\n",
      " |      Drops the table associated with this relation without cascading and without user prompt.\n",
      " |      If the table has any dependent table(s), this call will fail with an error.\n",
      " |  \n",
      " |  get_select_fields(self, select_fields=None)\n",
      " |      :return: the selected attributes from the SQL SELECT statement.\n",
      " |  \n",
      " |  insert(rows, replace=False, skip_duplicates=False, ignore_extra_fields=False, allow_direct_insert=None)\n",
      " |      Insert a collection of rows.\n",
      " |      \n",
      " |      :param rows: An iterable where an element is a numpy record, a dict-like object, a pandas.DataFrame, a sequence,\n",
      " |          or a query expression with the same heading as table self.\n",
      " |      :param replace: If True, replaces the existing tuple.\n",
      " |      :param skip_duplicates: If True, silently skip duplicate inserts.\n",
      " |      :param ignore_extra_fields: If False, fields that are not in the heading raise error.\n",
      " |      :param allow_direct_insert: applies only in auto-populated tables. If False (default), insert are allowed only from inside the make callback.\n",
      " |      \n",
      " |      Example::\n",
      " |      >>> relation.insert([\n",
      " |      >>>     dict(subject_id=7, species=\"mouse\", date_of_birth=\"2014-09-01\"),\n",
      " |      >>>     dict(subject_id=8, species=\"mouse\", date_of_birth=\"2014-09-02\")])\n",
      " |  \n",
      " |  insert1(row, **kwargs)\n",
      " |      Insert one data record or one Mapping (like a dict).\n",
      " |      :param row: a numpy record, a dict-like object, or an ordered sequence to be inserted as one row.\n",
      " |      For kwargs, see insert()\n",
      " |  \n",
      " |  parents(self, primary=None)\n",
      " |      :param primary: if None, then all parents are returned. If True, then only foreign keys composed of\n",
      " |          primary key attributes are considered.  If False, the only foreign keys including at least one non-primary\n",
      " |          attribute are considered.\n",
      " |      :return: dict of tables referenced with self's foreign keys\n",
      " |  \n",
      " |  show_definition(self)\n",
      " |  \n",
      " |  ----------------------------------------------------------------------\n",
      " |  Data descriptors inherited from datajoint.table.Table:\n",
      " |  \n",
      " |  external\n",
      " |  \n",
      " |  from_clause\n",
      " |      :return: the FROM clause of SQL SELECT statements.\n",
      " |  \n",
      " |  heading\n",
      " |      Returns the table heading. If the table is not declared, attempts to declare it and return heading.\n",
      " |      :return: table heading\n",
      " |  \n",
      " |  is_declared\n",
      " |      :return: True is the table is declared in the schema.\n",
      " |  \n",
      " |  size_on_disk\n",
      " |      :return: size of data and indices in bytes on the storage device\n",
      " |  \n",
      " |  ----------------------------------------------------------------------\n",
      " |  Methods inherited from datajoint.expression.QueryExpression:\n",
      " |  \n",
      " |  __add__(self, other)\n",
      " |      union of two entity sets `self` and `other`\n",
      " |  \n",
      " |  __and__(self, restriction)\n",
      " |      Restriction operator\n",
      " |      :return: a restricted copy of the input argument\n",
      " |      See QueryExpression.restrict for more detail.\n",
      " |  \n",
      " |  __bool__(self)\n",
      " |      :return:  True if the result is not empty. Equivalent to len(rel)>0 but may be more efficient.\n",
      " |  \n",
      " |  __contains__(self, item)\n",
      " |      returns True if item is found in the .\n",
      " |      :param item: any restriction\n",
      " |      (item in query_expression) is equivalent to bool(query_expression & item) but may be executed more efficiently.\n",
      " |  \n",
      " |  __iand__(self, restriction)\n",
      " |      in-place restriction.\n",
      " |      A subquery is created if the argument has renamed attributes.  Then the restriction is not in place.\n",
      " |      \n",
      " |      See QueryExpression.restrict for more detail.\n",
      " |  \n",
      " |  __init__(self, arg=None)\n",
      " |      Initialize self.  See help(type(self)) for accurate signature.\n",
      " |  \n",
      " |  __isub__(self, restriction)\n",
      " |      in-place inverted restriction aka antijoin\n",
      " |      \n",
      " |      See QueryExpression.restrict for more detail.\n",
      " |  \n",
      " |  __iter__(self)\n",
      " |  \n",
      " |  __len__(self)\n",
      " |      number of elements in the result set.\n",
      " |  \n",
      " |  __mul__(self, other)\n",
      " |      natural join of query expressions `self` and `other`\n",
      " |  \n",
      " |  __next__(self)\n",
      " |  \n",
      " |  __repr__(self)\n",
      " |      Return repr(self).\n",
      " |  \n",
      " |  __sub__(self, restriction)\n",
      " |      inverted restriction aka antijoin\n",
      " |      :return: a restricted copy of the argument\n",
      " |      \n",
      " |      See QueryExpression.restrict for more detail.\n",
      " |  \n",
      " |  aggr(group, *attributes, keep_all_rows=False, **named_attributes)\n",
      " |      Aggregation/projection operator\n",
      " |      :param group:  an entity set whose entities will be grouped per entity of `self`\n",
      " |      :param attributes: attributes of self to include in the result\n",
      " |      :param keep_all_rows: True = preserve the number of elements in the result (equivalent of LEFT JOIN in SQL)\n",
      " |      :param named_attributes: renamings and computations on attributes of self and group\n",
      " |      :return: an entity set representing the result of the aggregation/projection operator of entities from `group`\n",
      " |      per entity of `self`\n",
      " |  \n",
      " |  aggregate = aggr(self, group, *attributes, keep_all_rows=False, **named_attributes)\n",
      " |  \n",
      " |  attributes_in_restriction(self)\n",
      " |      :return: list of attributes that are probably used in the restriction.\n",
      " |          The function errs on the side of false positives.\n",
      " |          For example, if the restriction is \"val='id'\", then the attribute 'id' would be flagged.\n",
      " |          This is used internally for optimizing SQL statements.\n",
      " |  \n",
      " |  cursor(self, offset=0, limit=None, order_by=None, as_dict=False)\n",
      " |      See expression.fetch() for input description.\n",
      " |      :return: query cursor\n",
      " |  \n",
      " |  head(limit=25, **fetch_kwargs)\n",
      " |      shortcut to fetch the first few entries from query expression.\n",
      " |      Equivalent to fetch(order_by=\"KEY\", limit=25)\n",
      " |      :param limit:  number of entries\n",
      " |      :param fetch_kwargs: kwargs for fetch\n",
      " |      :return: query result\n",
      " |  \n",
      " |  make_sql(self, select_fields=None)\n",
      " |  \n",
      " |  preview(self, limit=None, width=None)\n",
      " |      returns a preview of the contents of the query.\n",
      " |  \n",
      " |  proj(*attributes, **named_attributes)\n",
      " |      Projection operator.\n",
      " |      :param attributes:  attributes to be included in the result. (The primary key is already included).\n",
      " |      :param named_attributes: new attributes computed or renamed from existing attributes.\n",
      " |      :return: the projected expression.\n",
      " |      Primary key attributes cannot be excluded but may be renamed.\n",
      " |      Thus self.proj() leaves only the primary key attributes of self.\n",
      " |      self.proj(a='id') renames the attribute 'id' into 'a' and includes 'a' in the projection.\n",
      " |      self.proj(a='expr') adds a new field a with the value computed with an SQL expression.\n",
      " |      self.proj(a='(id)') adds a new computed field named 'a' that has the same value as id\n",
      " |      Each attribute can only be used once in attributes or named_attributes.\n",
      " |      If the attribute list contains an Ellipsis ..., then all secondary attributes are included\n",
      " |      If an entry of the attribute list starts with a dash, e.g. '-attr', then the secondary attribute\n",
      " |      attr will be excluded, if already present but ignored if not found.\n",
      " |  \n",
      " |  restrict(self, restriction)\n",
      " |      In-place restriction.  Restricts the result to a specified subset of the input.\n",
      " |      rel.restrict(restriction)  is equivalent to  rel = rel & restriction  or  rel &= restriction\n",
      " |      rel.restrict(Not(restriction))  is equivalent to  rel = rel - restriction  or  rel -= restriction\n",
      " |      The primary key of the result is unaffected.\n",
      " |      Successive restrictions are combined as logical AND:   r & a & b  is equivalent to r & AndList((a, b))\n",
      " |      Any QueryExpression, collection, or sequence other than an AndList are treated as OrLists\n",
      " |      (logical disjunction of conditions)\n",
      " |      Inverse restriction is accomplished by either using the subtraction operator or the Not class.\n",
      " |      \n",
      " |      The expressions in each row equivalent:\n",
      " |      \n",
      " |      rel & True                          rel\n",
      " |      rel & False                         the empty entity set\n",
      " |      rel & 'TRUE'                        rel\n",
      " |      rel & 'FALSE'                       the empty entity set\n",
      " |      rel - cond                          rel & Not(cond)\n",
      " |      rel - 'TRUE'                        rel & False\n",
      " |      rel - 'FALSE'                       rel\n",
      " |      rel & AndList((cond1,cond2))        rel & cond1 & cond2\n",
      " |      rel & AndList()                     rel\n",
      " |      rel & [cond1, cond2]                rel & OrList((cond1, cond2))\n",
      " |      rel & []                            rel & False\n",
      " |      rel & None                          rel & False\n",
      " |      rel & any_empty_entity_set          rel & False\n",
      " |      rel - AndList((cond1,cond2))        rel & [Not(cond1), Not(cond2)]\n",
      " |      rel - [cond1, cond2]                rel & Not(cond1) & Not(cond2)\n",
      " |      rel - AndList()                     rel & False\n",
      " |      rel - []                            rel\n",
      " |      rel - None                          rel\n",
      " |      rel - any_empty_entity_set          rel\n",
      " |      \n",
      " |      When arg is another QueryExpression, the restriction  rel & arg  restricts rel to elements that match at least\n",
      " |      one element in arg (hence arg is treated as an OrList).\n",
      " |      Conversely,  rel - arg  restricts rel to elements that do not match any elements in arg.\n",
      " |      Two elements match when their common attributes have equal values or when they have no common attributes.\n",
      " |      All shared attributes must be in the primary key of either rel or arg or both or an error will be raised.\n",
      " |      \n",
      " |      QueryExpression.restrict is the only access point that modifies restrictions. All other operators must\n",
      " |      ultimately call restrict()\n",
      " |      \n",
      " |      :param restriction: a sequence or an array (treated as OR list), another QueryExpression, an SQL condition\n",
      " |      string, or an AndList.\n",
      " |  \n",
      " |  tail(limit=25, **fetch_kwargs)\n",
      " |      shortcut to fetch the last few entries from query expression.\n",
      " |      Equivalent to fetch(order_by=\"KEY DESC\", limit=25)[::-1]\n",
      " |      :param limit:  number of entries\n",
      " |      :param fetch_kwargs: kwargs for fetch\n",
      " |      :return: query result\n",
      " |  \n",
      " |  ----------------------------------------------------------------------\n",
      " |  Class methods inherited from datajoint.expression.QueryExpression:\n",
      " |  \n",
      " |  create() from datajoint.user_tables.OrderedClass\n",
      " |      abstract method for creating an instance\n",
      " |  \n",
      " |  ----------------------------------------------------------------------\n",
      " |  Data descriptors inherited from datajoint.expression.QueryExpression:\n",
      " |  \n",
      " |  __dict__\n",
      " |      dictionary for instance variables (if defined)\n",
      " |  \n",
      " |  __weakref__\n",
      " |      list of weak references to the object (if defined)\n",
      " |  \n",
      " |  distinct\n",
      " |      :return: True if the DISTINCT modifier is required to make valid result\n",
      " |  \n",
      " |  fetch\n",
      " |  \n",
      " |  fetch1\n",
      " |  \n",
      " |  primary_key\n",
      " |  \n",
      " |  restriction\n",
      " |      :return:  The AndList of restrictions applied to input to produce the result.\n",
      " |  \n",
      " |  where_clause\n",
      " |      convert self.restriction to the SQL WHERE clause\n",
      " |  \n",
      " |  ----------------------------------------------------------------------\n",
      " |  Methods inherited from datajoint.autopopulate.AutoPopulate:\n",
      " |  \n",
      " |  populate(*restrictions, suppress_errors=False, return_exception_objects=False, reserve_jobs=False, order='original', limit=None, max_calls=None, display_progress=False)\n",
      " |      rel.populate() calls rel.make(key) for every primary key in self.key_source\n",
      " |      for which there is not already a tuple in rel.\n",
      " |      :param restrictions: a list of restrictions each restrict (rel.key_source - target.proj())\n",
      " |      :param suppress_errors: if True, do not terminate execution.\n",
      " |      :param return_exception_objects: return error objects instead of just error messages\n",
      " |      :param reserve_jobs: if true, reserves job to populate in asynchronous fashion\n",
      " |      :param order: \"original\"|\"reverse\"|\"random\"  - the order of execution\n",
      " |      :param display_progress: if True, report progress_bar\n",
      " |      :param limit: if not None, checks at most that many keys\n",
      " |      :param max_calls: if not None, populates at max that many keys\n",
      " |  \n",
      " |  progress(*restrictions, display=True)\n",
      " |      report progress of populating the table\n",
      " |      :return: remaining, total -- tuples to be populated\n",
      " |  \n",
      " |  ----------------------------------------------------------------------\n",
      " |  Data descriptors inherited from datajoint.autopopulate.AutoPopulate:\n",
      " |  \n",
      " |  target\n",
      " |      relation to be populated.\n",
      " |      Typically, AutoPopulate are mixed into a Relation object and the target is self.\n",
      "\n"
     ]
    }
   ],
   "source": [
    "help(Discrepancy)"
   ]
  },
  {
   "cell_type": "code",
   "execution_count": null,
   "metadata": {},
   "outputs": [],
   "source": [
    "d = Discrepancy()\n",
    "d.__doc__ = \"one two three\"\n",
    "help(d)"
   ]
  },
  {
   "cell_type": "code",
   "execution_count": null,
   "metadata": {},
   "outputs": [],
   "source": [
    "Discrepancy().__doc__"
   ]
  },
  {
   "cell_type": "code",
   "execution_count": null,
   "metadata": {},
   "outputs": [],
   "source": [
    "Discrepancy.populate(display_progress=True)"
   ]
  },
  {
   "cell_type": "code",
   "execution_count": null,
   "metadata": {},
   "outputs": [],
   "source": [
    "(Discrepancy() & 'animal_id = 0').delete()"
   ]
  },
  {
   "cell_type": "code",
   "execution_count": null,
   "metadata": {},
   "outputs": [],
   "source": [
    "k = np.random.choice(((Discrepancy & 'discrepancy') & (stimulus.Trial*stimulus.Trippy)).fetch('KEY'))"
   ]
  },
  {
   "cell_type": "code",
   "execution_count": null,
   "metadata": {},
   "outputs": [],
   "source": [
    "%matplotlib inline\n",
    "from matplotlib import pyplot as plt"
   ]
  },
  {
   "cell_type": "code",
   "execution_count": null,
   "metadata": {},
   "outputs": [],
   "source": [
    "plt.plot(((stimulus.Trial & k).fetch1('flip_times').flatten()), '.')For "
   ]
  },
  {
   "cell_type": "code",
   "execution_count": null,
   "metadata": {},
   "outputs": [],
   "source": [
    "# sessions that have both Monet and Trippy from a few recent experiments\n",
    "sessions = (fuse.Activity * stimulus.Sync & 'animal_id in (20505, 20322, 20457, 20210, 20892)'\n",
    "            & (stimulus.Trial * stimulus.Monet2) & (stimulus.Trial * stimulus.Trippy)).fetch('KEY')\n",
    "key = sessions[2]   # pick one\n",
    "session_name = dj.hash.key_hash(key)[:6]"
   ]
  },
  {
   "cell_type": "code",
   "execution_count": null,
   "metadata": {},
   "outputs": [],
   "source": [
    "keys = (stimulus.Monet2 * stimulus.Trial & 'animal_id between 17000 and 18000').fetch('KEY')"
   ]
  },
  {
   "cell_type": "code",
   "execution_count": null,
   "metadata": {},
   "outputs": [],
   "source": [
    "key = random.choice(keys)\n",
    "g = (stimulus.Monet2 * stimulus.Trial & key).fetch1('flip_times', 'duration', 'fps', 'movie')"
   ]
  },
  {
   "cell_type": "code",
   "execution_count": null,
   "metadata": {},
   "outputs": [],
   "source": [
    "d, t, n = (experiment.Session * stimulus.Monet2 * stimulus.Trial & 'animal_id > 18000').proj(\n",
    "     'session_date', 'flip_times', nframes='duration*fps').fetch('session_date', 'flip_times', 'nframes')"
   ]
  },
  {
   "cell_type": "code",
   "execution_count": null,
   "metadata": {},
   "outputs": [],
   "source": []
  },
  {
   "cell_type": "code",
   "execution_count": null,
   "metadata": {},
   "outputs": [],
   "source": [
    "q = np.array(list((d_, t_.size, n_) for d_, t_, n_ in zip(d, t, n)))"
   ]
  },
  {
   "cell_type": "code",
   "execution_count": null,
   "metadata": {},
   "outputs": [],
   "source": [
    "fig, ax = plt.subplots(1, 1, figsize=(16, 3))\n",
    "ax.plot(q[:,0], q[:,1]- q[:,2], '.')\n",
    "ax.set_ylabel('Monet2 frame discrepancy')"
   ]
  },
  {
   "cell_type": "code",
   "execution_count": null,
   "metadata": {},
   "outputs": [],
   "source": [
    "help(plt.subplots)"
   ]
  },
  {
   "cell_type": "code",
   "execution_count": null,
   "metadata": {},
   "outputs": [],
   "source": [
    "experiment.Session()"
   ]
  },
  {
   "cell_type": "code",
   "execution_count": null,
   "metadata": {},
   "outputs": [],
   "source": []
  },
  {
   "cell_type": "code",
   "execution_count": null,
   "metadata": {},
   "outputs": [],
   "source": [
    "# Load frame times\n",
    "pipe = (fuse.Activity() & key).module\n",
    "num_frames = (pipe.ScanInfo() & key).fetch1('nframes')\n",
    "num_depths = len(dj.U('z') & (pipe.ScanInfo.Field().proj('z', nomatch='field') & key))\n",
    "frame_times = (stimulus.Sync() & key).fetch1('frame_times', squeeze=True) # one per depth\n",
    "assert num_frames <= frame_times.size / num_depths <= num_frames + 1\n",
    "frame_times = frame_times[:num_depths * num_frames:num_depths]  # one per volume"
   ]
  },
  {
   "cell_type": "code",
   "execution_count": null,
   "metadata": {},
   "outputs": [],
   "source": [
    "# Load and cache soma traces\n",
    "trace_hash = dj.hash.key_hash({k: v for k, v in key.items() if k not in {'stimulus_type'}})\n",
    "archive = os.path.join('cache', trace_hash + '-traces.npz')\n",
    "if os.path.isfile(archive):\n",
    "    data = np.load(archive)\n",
    "    trace_keys = data['trace_keys']\n",
    "    traces = data['traces']\n",
    "    ms_delay = data['ms_delay']\n",
    "else:\n",
    "    units = pipe.ScanSet.Unit * pipe.MaskClassification.Type & {'type': 'soma'}\n",
    "    spikes = pipe.Activity.Trace * pipe.ScanSet.UnitInfo & units & key\n",
    "    trace_keys, traces, ms_delay = spikes.fetch('KEY', 'trace', 'ms_delay')\n",
    "    np.savez_compressed(archive, trace_keys=trace_keys, traces=traces, ms_delay=ms_delay)\n",
    "frame_times = np.add.outer(ms_delay / 1000, frame_times)  # num_traces x num_frames"
   ]
  },
  {
   "cell_type": "code",
   "execution_count": null,
   "metadata": {},
   "outputs": [],
   "source": [
    "trippy_session = mt.VisualSession(np.stack(traces), frame_times)\n",
    "for trial in (stimulus.Trial * stimulus.Condition * stimulus.Trippy & key).proj(..., '- movie'):\n",
    "    trippy_session.add_trial(mt.Trippy.from_condition(trial), trial['flip_times'].flatten())"
   ]
  },
  {
   "cell_type": "code",
   "execution_count": null,
   "metadata": {},
   "outputs": [],
   "source": [
    "trippy_session.save(session_name)"
   ]
  },
  {
   "cell_type": "code",
   "execution_count": null,
   "metadata": {},
   "outputs": [],
   "source": [
    "'%08.3f' % (trippy_session.trials[0]['times'][0] - trippy_session.times.flatten()[0])"
   ]
  },
  {
   "cell_type": "code",
   "execution_count": null,
   "metadata": {},
   "outputs": [],
   "source": [
    "session_name"
   ]
  },
  {
   "cell_type": "code",
   "execution_count": null,
   "metadata": {},
   "outputs": [],
   "source": [
    "help(os.makedirs)"
   ]
  },
  {
   "cell_type": "code",
   "execution_count": null,
   "metadata": {},
   "outputs": [],
   "source": [
    "json.dumps(()"
   ]
  },
  {
   "cell_type": "code",
   "execution_count": null,
   "metadata": {},
   "outputs": [],
   "source": [
    "trippy_session.trials[0]['times'][0]"
   ]
  },
  {
   "cell_type": "code",
   "execution_count": null,
   "metadata": {},
   "outputs": [],
   "source": [
    "import os\n",
    "import hashlib"
   ]
  },
  {
   "cell_type": "code",
   "execution_count": null,
   "metadata": {},
   "outputs": [],
   "source": [
    "help(hashlib.blake2b)"
   ]
  },
  {
   "cell_type": "code",
   "execution_count": null,
   "metadata": {},
   "outputs": [],
   "source": [
    "os.path.abspath('../data')"
   ]
  },
  {
   "cell_type": "code",
   "execution_count": null,
   "metadata": {},
   "outputs": [],
   "source": [
    "help(os.makedirs)"
   ]
  },
  {
   "cell_type": "code",
   "execution_count": null,
   "metadata": {
    "scrolled": false
   },
   "outputs": [],
   "source": [
    "help(np.savez)"
   ]
  },
  {
   "cell_type": "code",
   "execution_count": null,
   "metadata": {},
   "outputs": [],
   "source": []
  }
 ],
 "metadata": {
  "kernelspec": {
   "display_name": "Python 3",
   "language": "python",
   "name": "python3"
  },
  "language_info": {
   "codemirror_mode": {
    "name": "ipython",
    "version": 3
   },
   "file_extension": ".py",
   "mimetype": "text/x-python",
   "name": "python",
   "nbconvert_exporter": "python",
   "pygments_lexer": "ipython3",
   "version": "3.6.8"
  }
 },
 "nbformat": 4,
 "nbformat_minor": 2
}
